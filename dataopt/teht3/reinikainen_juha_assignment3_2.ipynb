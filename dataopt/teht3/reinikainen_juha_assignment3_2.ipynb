{
 "cells": [
  {
   "cell_type": "markdown",
   "metadata": {},
   "source": [
    "## Data-driven optimization and decision making - Assignment 3\n",
    "Juha Reinikainen\n",
    "\n",
    "Solve any benchmark problems (K=2 and 5, n=10) with ParEGO and LCB. Start with 109\n",
    "design points. Compare the hypervolume of the solutions after 100 exact function\n",
    "evaluations.\n"
   ]
  },
  {
   "cell_type": "code",
   "execution_count": null,
   "metadata": {
    "vscode": {
     "languageId": "plaintext"
    }
   },
   "outputs": [],
   "source": []
  },
  {
   "cell_type": "markdown",
   "metadata": {},
   "source": [
    "| Instance             | HV (ParEGO) | HV (LCB) |\n",
    "|  --                  | --          | --       |\n",
    "| DTLZ2 (K = 2, n = 10) |             |          |\n",
    "| DTLZ5 (K = 5, n = 10) |            |          |"
   ]
  }
 ],
 "metadata": {
  "language_info": {
   "name": "python"
  },
  "orig_nbformat": 4
 },
 "nbformat": 4,
 "nbformat_minor": 2
}
