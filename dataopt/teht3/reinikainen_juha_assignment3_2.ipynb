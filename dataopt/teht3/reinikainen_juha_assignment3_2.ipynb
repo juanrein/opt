{
 "cells": [
  {
   "cell_type": "markdown",
   "metadata": {},
   "source": [
    "## Data-driven optimization and decision making - Assignment 3\n",
    "Juha Reinikainen\n",
    "\n",
    "Solve any benchmark problems (K=2 and 5, n=10) with ParEGO and LCB. Start with 109\n",
    "design points. Compare the hypervolume of the solutions after 100 exact function\n",
    "evaluations.\n"
   ]
  },
  {
   "cell_type": "code",
   "execution_count": 8,
   "metadata": {},
   "outputs": [],
   "source": [
    "import numpy as np\n",
    "from sklearn.gaussian_process import GaussianProcessRegressor\n",
    "from desdeo_problem.testproblems.TestProblems import test_problem_builder\n",
    "from desdeo_tools.utilities.quality_indicator import hypervolume_indicator\n",
    "from pymoo.factory import get_problem\n",
    "\n",
    "from parego import ParEGO\n",
    "from lcb import optimize_with_lcb\n",
    "from sampling import create_data\n"
   ]
  },
  {
   "cell_type": "code",
   "execution_count": 9,
   "metadata": {},
   "outputs": [],
   "source": [
    "seed = 1\n",
    "max_evals = 100\n",
    "\n",
    "dtlz2_pymoo = get_problem(\"dtlz2\", n_var=10, n_obj=2)\n",
    "dtlz5_pymoo = get_problem(\"dtlz5\", n_var=10, n_obj=5)\n",
    "dtlz2 = test_problem_builder(\"DTLZ2\", n_of_objectives=2, n_of_variables=10)\n",
    "dtlz5 = test_problem_builder(\"DTLZ5\", n_of_objectives=5, n_of_variables=10)\n"
   ]
  },
  {
   "cell_type": "code",
   "execution_count": 10,
   "metadata": {},
   "outputs": [
    {
     "name": "stdout",
     "output_type": "stream",
     "text": [
      "dtlz2 lcb hv 3.1150908270394955\n",
      "dtlz2 parego hv 1.647657050769505\n"
     ]
    }
   ],
   "source": [
    "#DTLZ2\n",
    "\n",
    "X, y = create_data(dtlz2, 109, seed)\n",
    "surrogates = [GaussianProcessRegressor() for _ in range(2)]\n",
    "individuals, solutions = optimize_with_lcb(dtlz2, surrogates, X, y, max_evals)\n",
    "nadir_dtlz2 = np.max(solutions, axis=0)\n",
    "hv_lcb = hypervolume_indicator(solutions, nadir_dtlz2)\n",
    "print(\"dtlz2 lcb hv\", hv_lcb)\n",
    "\n",
    "parego = ParEGO()\n",
    "X, y = create_data(dtlz2_pymoo, 109, seed)\n",
    "individuals, solutions = \\\n",
    "    parego.optimize(dtlz2_pymoo, GaussianProcessRegressor(),\n",
    "                    X, y, max_evals, 10, seed)\n",
    "hv_parego = hypervolume_indicator(solutions, nadir_dtlz2)\n",
    "print(\"dtlz2 parego hv\", hv_parego)\n"
   ]
  },
  {
   "cell_type": "code",
   "execution_count": 11,
   "metadata": {},
   "outputs": [
    {
     "name": "stdout",
     "output_type": "stream",
     "text": [
      "dtlz5 lcb hv 0.5523348967202094\n",
      "dtlz5 parego hv 0.06240745908861826\n"
     ]
    }
   ],
   "source": [
    "#DTLZ5\n",
    "\n",
    "X, y = create_data(dtlz5, 109, seed)\n",
    "surrogates = [GaussianProcessRegressor() for _ in range(5)]\n",
    "individuals, solutions = optimize_with_lcb(dtlz5, surrogates, X, y, max_evals)\n",
    "nadir_dtlz5 = np.max(solutions, axis=0)\n",
    "hv_lcb = hypervolume_indicator(solutions, nadir_dtlz5)\n",
    "print(\"dtlz5 lcb hv\", hv_lcb)\n",
    "\n",
    "parego = ParEGO()\n",
    "X, y = create_data(dtlz5_pymoo, 109, seed)\n",
    "individuals, solutions = \\\n",
    "    parego.optimize(dtlz5_pymoo, GaussianProcessRegressor(),\n",
    "                    X, y, max_evals, 10, seed)\n",
    "hv_parego = hypervolume_indicator(solutions, nadir_dtlz5)\n",
    "print(\"dtlz5 parego hv\", hv_parego)"
   ]
  },
  {
   "cell_type": "markdown",
   "metadata": {},
   "source": [
    "| Instance             | HV (ParEGO) | HV (LCB) |\n",
    "|  --                  | --          | --       |\n",
    "| DTLZ2 (K = 2, n = 10) |  1.65           |   3.12       |\n",
    "| DTLZ5 (K = 5, n = 10) |  0.062          |     0.55     |"
   ]
  },
  {
   "cell_type": "markdown",
   "metadata": {},
   "source": [
    "LCB performs significantly better on both DLTZ2 and DTLZ5"
   ]
  }
 ],
 "metadata": {
  "interpreter": {
   "hash": "d67f4bcf1604c44bf18ec22d97f283eada189abc7af111a58bd3017a8979d250"
  },
  "kernelspec": {
   "display_name": "Python 3.9.12 ('env': venv)",
   "language": "python",
   "name": "python3"
  },
  "language_info": {
   "codemirror_mode": {
    "name": "ipython",
    "version": 3
   },
   "file_extension": ".py",
   "mimetype": "text/x-python",
   "name": "python",
   "nbconvert_exporter": "python",
   "pygments_lexer": "ipython3",
   "version": "3.9.12"
  },
  "orig_nbformat": 4
 },
 "nbformat": 4,
 "nbformat_minor": 2
}
