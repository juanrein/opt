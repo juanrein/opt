{
 "cells": [
  {
   "cell_type": "code",
   "execution_count": 15,
   "metadata": {},
   "outputs": [
    {
     "name": "stdout",
     "output_type": "stream",
     "text": [
      "============================================================\n",
      "n_gen |  n_eval |     fopt     |   fopt_gap   |     favg    \n",
      "============================================================\n",
      "    1 |      10 |  1.40464E+01 |  1.40464E+01 |  1.94662E+01\n",
      "    2 |      20 |  1.27105E+01 |  1.27105E+01 |  1.69706E+01\n",
      "    3 |      30 |  1.27105E+01 |  1.27105E+01 |  1.56481E+01\n",
      "    4 |      40 |  1.27105E+01 |  1.27105E+01 |  1.40725E+01\n",
      "    5 |      50 |  1.27105E+01 |  1.27105E+01 |  1.34610E+01\n",
      "    6 |      60 |  1.26023E+01 |  1.26023E+01 |  1.31202E+01\n",
      "    7 |      70 |  1.25642E+01 |  1.25642E+01 |  1.29883E+01\n",
      "    8 |      80 |  1.08305E+01 |  1.08305E+01 |  1.26062E+01\n",
      "    9 |      90 |  1.08305E+01 |  1.08305E+01 |  1.24891E+01\n",
      "   10 |     100 |  1.01938E+01 |  1.01938E+01 |  1.21731E+01\n",
      "[4.236416 0.973671] [10.193839]\n"
     ]
    }
   ],
   "source": [
    "import numpy as np\n",
    "from pymoo.factory import get_problem, get_visualization\n",
    "from scipy.stats import qmc\n",
    "from pymoo.algorithms.soo.nonconvex.ga import GA\n",
    "from pymoo.optimize import minimize\n",
    "import pandas as pd\n",
    "\n",
    "seed = 1\n",
    "\n",
    "problem = get_problem(\"ackley\", n_var=2, a=20, b=1/5, c=2 * np.pi)\n",
    "optimizer = GA(pop_size = 10)\n",
    "res = minimize(problem, optimizer, termination=(\"n_eval\", 100), seed=seed, verbose = True)\n",
    "np.set_printoptions(formatter={\"all\": lambda x: f\"{x:f}\"})\n",
    "print(res.X, res.F)\n",
    "\n",
    "\n",
    "\n",
    "lhs = qmc.LatinHypercube(problem.n_var, seed=seed)\n",
    "X = lhs.random(50)\n",
    "X = qmc.scale(X, problem.xl, problem.xu)\n",
    "y = problem.evaluate(X)\n",
    "\n",
    "df = pd.DataFrame(X)\n",
    "# print(df.describe())\n",
    "\n"
   ]
  }
 ],
 "metadata": {
  "interpreter": {
   "hash": "d67f4bcf1604c44bf18ec22d97f283eada189abc7af111a58bd3017a8979d250"
  },
  "kernelspec": {
   "display_name": "Python 3.8.5 ('env': venv)",
   "language": "python",
   "name": "python3"
  },
  "language_info": {
   "codemirror_mode": {
    "name": "ipython",
    "version": 3
   },
   "file_extension": ".py",
   "mimetype": "text/x-python",
   "name": "python",
   "nbconvert_exporter": "python",
   "pygments_lexer": "ipython3",
   "version": "3.9.12"
  },
  "orig_nbformat": 4
 },
 "nbformat": 4,
 "nbformat_minor": 2
}
