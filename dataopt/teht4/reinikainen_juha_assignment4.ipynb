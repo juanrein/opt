{
 "cells": [
  {
   "cell_type": "code",
   "execution_count": 178,
   "metadata": {},
   "outputs": [],
   "source": [
    "import numpy as np\n",
    "from sklearn.gaussian_process import GaussianProcessRegressor\n",
    "from scipy.stats import qmc\n",
    "from pymoo.factory import get_problem\n",
    "\n",
    "from selection import probability_of_selection, probability_of_dominance\n",
    "from desdeo_tools.utilities import non_dominated\n"
   ]
  },
  {
   "cell_type": "markdown",
   "metadata": {},
   "source": [
    "Implement probability of selection for single objective optimization. * (refer eqn.\n",
    "12, 13, 14)"
   ]
  },
  {
   "cell_type": "code",
   "execution_count": 179,
   "metadata": {},
   "outputs": [
    {
     "name": "stdout",
     "output_type": "stream",
     "text": [
      "[0.6666666666666666, 0.3333333333333333, 0.0]\n",
      "[0.5204343109983712, 0.4308660522238991, 0.04869963677772956]\n"
     ]
    }
   ],
   "source": [
    "print(probability_of_selection([1, 2, 3], [0, 0, 0]))  # zero std\n",
    "print(probability_of_selection([1, 2, 3], [2, 0.1, 0.1]))\n"
   ]
  },
  {
   "cell_type": "markdown",
   "metadata": {},
   "source": [
    "Implement probability of dominance and ranking. * (refer eqn. 15, 17, 18, 22)\n",
    "- Generate 50 samples from DTLZ2 problem (3 objectives, 5 decision variables) using LHS sampling\n",
    "- Build Kriging surrogates using the generated samples\n",
    "- Resample or generate 20 data points randomly\n",
    "- Rank the 20 points using probability of dominance ranking"
   ]
  },
  {
   "cell_type": "code",
   "execution_count": 180,
   "metadata": {},
   "outputs": [],
   "source": [
    "# generate data\n",
    "n_train = 50\n",
    "n_test = 20\n",
    "\n",
    "dtlz2 = get_problem(\"dtlz2\", n_var=5, n_obj=3)\n",
    "surrogates = [GaussianProcessRegressor() for _ in range(dtlz2.n_obj)]\n",
    "\n",
    "lhs = qmc.LatinHypercube(dtlz2.n_var, seed=2)\n",
    "X_train = lhs.random(n_train)\n",
    "X_train = qmc.scale(X_train, dtlz2.xl, dtlz2.xu)\n",
    "y_train = dtlz2.evaluate(X_train)\n",
    "X_test = lhs.random(n_test)\n",
    "X_test = qmc.scale(X_test, dtlz2.xl, dtlz2.xu)\n",
    "y_test = dtlz2.evaluate(X_test)\n",
    "# fit surrogates and predict\n",
    "y_pred = np.zeros((n_test, dtlz2.n_obj))\n",
    "y_pred_std = np.zeros((n_test, dtlz2.n_obj))\n",
    "for surrogateI, surrogate in enumerate(surrogates):\n",
    "    surrogate.fit(X_train, y_train[:, surrogateI])\n",
    "    y_pred[:, surrogateI], y_pred_std[:, surrogateI] = surrogate.predict(\n",
    "        X_test, return_std=True)\n"
   ]
  },
  {
   "cell_type": "code",
   "execution_count": 181,
   "metadata": {},
   "outputs": [
    {
     "name": "stdout",
     "output_type": "stream",
     "text": [
      "values predicted, std,              probability,       nondominated\n",
      "[0.28 0.19 0.98] [0.01 0.01 0.01] 0.05551533179499345 True\n",
      "[0.06 0.07 1.17] [0.06 0.06 0.06] 0.05258092026540192 True\n",
      "[1.09 0.23 0.05] [0.05 0.05 0.05] 0.05232291689859647 True\n",
      "[0.89 0.04 0.83] [0.06 0.06 0.06] 0.05150568472473123 True\n",
      "[0.38 0.76 0.87] [0.04 0.04 0.04] 0.050162776996306536 True\n",
      "[0.85 0.45 0.69] [0.03 0.03 0.03] 0.05004601247405389 True\n",
      "[0.8  0.88 0.29] [0.08 0.08 0.08] 0.05000449017379476 True\n",
      "[0.3  1.15 0.34] [0.04 0.04 0.04] 0.05000329795530518 True\n",
      "[0.04 1.28 0.55] [0.04 0.04 0.04] 0.04999914272038843 True\n",
      "[0.64 0.85 0.65] [0.03 0.03 0.03] 0.04998055992754291 True\n",
      "[-0.01  0.25  1.26] [0.08 0.08 0.08] 0.04992776736712933 True\n",
      "[0.12 0.45 1.11] [0.03 0.03 0.03] 0.04984844173511168 True\n",
      "[0.54 0.39 0.95] [0.03 0.03 0.03] 0.04975104237971577 True\n",
      "[ 0.24 -0.01  1.33] [0.04 0.04 0.04] 0.04971522615261115 True\n",
      "[0.2  0.27 1.14] [0.04 0.04 0.04] 0.04942491215201722 True\n",
      "[1.06 0.43 0.46] [0.05 0.05 0.05] 0.049290440287613715 True\n",
      "[1.09 0.54 0.33] [0.08 0.08 0.08] 0.048666783609402166 False\n",
      "[0.3  0.81 1.02] [0.05 0.05 0.05] 0.047869747606320005 False\n",
      "[0.37 0.43 1.07] [0.03 0.03 0.03] 0.047034899339590625 False\n",
      "[0.97 0.19 1.04] [0.14 0.14 0.14] 0.046349605439373526 False\n"
     ]
    }
   ],
   "source": [
    "# print(probability_of_dominance(np.array([[0, 0], [1,1]]), np.array([[1,0], [0,0]])))\n",
    "ps = probability_of_dominance(y_pred, y_pred_std)\n",
    "\n",
    "np.set_printoptions(precision=2)\n",
    "# sort based on probability of dominance\n",
    "solutions = sorted(zip(X_test, y_pred, y_pred_std, ps, non_dominated(y_pred)),\n",
    "                   key=lambda x: x[3], reverse=True)\n",
    "print(\"values predicted, std,              probability,       nondominated\")\n",
    "for x, y, s, p, d in solutions:\n",
    "    print(y, s, p, d)\n"
   ]
  }
 ],
 "metadata": {
  "interpreter": {
   "hash": "d67f4bcf1604c44bf18ec22d97f283eada189abc7af111a58bd3017a8979d250"
  },
  "kernelspec": {
   "display_name": "Python 3.9.12 ('env': venv)",
   "language": "python",
   "name": "python3"
  },
  "language_info": {
   "codemirror_mode": {
    "name": "ipython",
    "version": 3
   },
   "file_extension": ".py",
   "mimetype": "text/x-python",
   "name": "python",
   "nbconvert_exporter": "python",
   "pygments_lexer": "ipython3",
   "version": "3.9.12"
  },
  "orig_nbformat": 4
 },
 "nbformat": 4,
 "nbformat_minor": 2
}
