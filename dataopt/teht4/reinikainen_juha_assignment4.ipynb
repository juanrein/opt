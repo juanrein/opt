{
 "cells": [
  {
   "cell_type": "code",
   "execution_count": 3,
   "metadata": {},
   "outputs": [],
   "source": [
    "import numpy as np\n",
    "from sklearn.gaussian_process import GaussianProcessRegressor\n",
    "from scipy.stats import qmc\n",
    "\n",
    "from selection import probability_of_selection"
   ]
  },
  {
   "cell_type": "markdown",
   "metadata": {},
   "source": [
    "Implement probability of selection for single objective optimization. * (refer eqn.\n",
    "12, 13, 14)"
   ]
  },
  {
   "cell_type": "code",
   "execution_count": 4,
   "metadata": {},
   "outputs": [
    {
     "name": "stdout",
     "output_type": "stream",
     "text": [
      "[0.6666666666666666, 0.3333333333333333, 0.0]\n",
      "[0.5204343109983712, 0.4308660522238991, 0.04869963677772956]\n"
     ]
    }
   ],
   "source": [
    "print(probability_of_selection([1,2,3], [0, 0,0]))\n",
    "print(probability_of_selection([1,2,3], [2, 0.1, 0.1]))"
   ]
  },
  {
   "cell_type": "markdown",
   "metadata": {},
   "source": [
    "Implement probability of dominance and ranking. * (refer eqn. 15, 17, 18, 22)\n",
    "- Generate 50 samples from DTLZ2 problem (3 objectives, 5 decision variables) using LHS sampling\n",
    "- Build Kriging surrogates using the generated samples\n",
    "- Resample or generate 20 data points randomly\n",
    "- Rank the 20 points using probability of dominance ranking"
   ]
  },
  {
   "cell_type": "code",
   "execution_count": null,
   "metadata": {},
   "outputs": [],
   "source": []
  }
 ],
 "metadata": {
  "interpreter": {
   "hash": "d67f4bcf1604c44bf18ec22d97f283eada189abc7af111a58bd3017a8979d250"
  },
  "kernelspec": {
   "display_name": "Python 3.9.12 ('env': venv)",
   "language": "python",
   "name": "python3"
  },
  "language_info": {
   "codemirror_mode": {
    "name": "ipython",
    "version": 3
   },
   "file_extension": ".py",
   "mimetype": "text/x-python",
   "name": "python",
   "nbconvert_exporter": "python",
   "pygments_lexer": "ipython3",
   "version": "3.9.12"
  },
  "orig_nbformat": 4
 },
 "nbformat": 4,
 "nbformat_minor": 2
}
