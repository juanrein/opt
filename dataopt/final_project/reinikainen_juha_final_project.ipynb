{
 "cells": [
  {
   "cell_type": "markdown",
   "metadata": {},
   "source": [
    "### Data-driven optimization and decision making\n",
    "\n",
    "### Final project\n",
    "\n",
    "Juha Reinikainen"
   ]
  },
  {
   "cell_type": "code",
   "execution_count": 1,
   "metadata": {},
   "outputs": [],
   "source": [
    "import pandas as pd\n",
    "import numpy as np\n",
    "import model\n",
    "import data\n",
    "import matplotlib.pyplot as plt"
   ]
  },
  {
   "cell_type": "code",
   "execution_count": 2,
   "metadata": {},
   "outputs": [
    {
     "name": "stdout",
     "output_type": "stream",
     "text": [
      "423.08029358193534\n"
     ]
    }
   ],
   "source": [
    "X = data.get_data()\n",
    "print(X.shape)\n",
    "\n",
    "results = []\n",
    "for w in model.createWeightVectors(X.shape[1], 13):\n",
    "    er = model.expected_return(X, w)\n",
    "    r = model.risk(X, w)\n",
    "    results.append((w, er, r))\n",
    "\n",
    "print(max(results, key=lambda x: x[1]))\n",
    "print(min(results, key=lambda x: x[2]))\n",
    "print(len(results))\n",
    "returns = list(map(lambda x: x[1], results))\n",
    "risks = list(map(lambda x: x[2], results))\n",
    "plt.scatter(risks, returns)\n",
    "plt.show()\n"
   ]
  }
 ],
 "metadata": {
  "interpreter": {
   "hash": "bdaafca23d82b893edea9c5e7a9be4f8f0094208d48780ab63954ad3d246d51b"
  },
  "kernelspec": {
   "display_name": "Python 3.9.12 ('env': venv)",
   "language": "python",
   "name": "python3"
  },
  "language_info": {
   "codemirror_mode": {
    "name": "ipython",
    "version": 3
   },
   "file_extension": ".py",
   "mimetype": "text/x-python",
   "name": "python",
   "nbconvert_exporter": "python",
   "pygments_lexer": "ipython3",
   "version": "3.9.12"
  },
  "orig_nbformat": 4
 },
 "nbformat": 4,
 "nbformat_minor": 2
}
