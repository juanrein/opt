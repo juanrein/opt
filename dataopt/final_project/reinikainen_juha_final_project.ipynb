{
 "cells": [
  {
   "cell_type": "markdown",
   "metadata": {},
   "source": [
    "### Data-driven optimization and decision making\n",
    "\n",
    "### Final project\n",
    "\n",
    "Juha Reinikainen"
   ]
  },
  {
   "cell_type": "code",
   "execution_count": 1,
   "metadata": {},
   "outputs": [],
   "source": [
    "import pandas as pd\n",
    "import numpy as np\n",
    "import model\n",
    "import data\n"
   ]
  },
  {
   "cell_type": "code",
   "execution_count": 2,
   "metadata": {},
   "outputs": [
    {
     "ename": "ValueError",
     "evalue": "shapes (54,3) and (4,) not aligned: 3 (dim 1) != 4 (dim 0)",
     "output_type": "error",
     "traceback": [
      "\u001b[1;31m---------------------------------------------------------------------------\u001b[0m",
      "\u001b[1;31mValueError\u001b[0m                                Traceback (most recent call last)",
      "\u001b[1;32mc:\\Users\\Juha Reinikainen\\Documents\\dataopt\\tehtavat\\opt\\dataopt\\final_project\\reinikainen_juha_final_project.ipynb Cell 3'\u001b[0m in \u001b[0;36m<cell line: 4>\u001b[1;34m()\u001b[0m\n\u001b[0;32m      <a href='vscode-notebook-cell:/c%3A/Users/Juha%20Reinikainen/Documents/dataopt/tehtavat/opt/dataopt/final_project/reinikainen_juha_final_project.ipynb#ch0000002?line=1'>2</a>\u001b[0m \u001b[39m#equal weights\u001b[39;00m\n\u001b[0;32m      <a href='vscode-notebook-cell:/c%3A/Users/Juha%20Reinikainen/Documents/dataopt/tehtavat/opt/dataopt/final_project/reinikainen_juha_final_project.ipynb#ch0000002?line=2'>3</a>\u001b[0m w \u001b[39m=\u001b[39m np\u001b[39m.\u001b[39marray([\u001b[39m0.25\u001b[39m, \u001b[39m0.25\u001b[39m, \u001b[39m0.25\u001b[39m, \u001b[39m0.25\u001b[39m])\n\u001b[1;32m----> <a href='vscode-notebook-cell:/c%3A/Users/Juha%20Reinikainen/Documents/dataopt/tehtavat/opt/dataopt/final_project/reinikainen_juha_final_project.ipynb#ch0000002?line=3'>4</a>\u001b[0m er \u001b[39m=\u001b[39m model\u001b[39m.\u001b[39;49mexpectedReturn(X,w)\n\u001b[0;32m      <a href='vscode-notebook-cell:/c%3A/Users/Juha%20Reinikainen/Documents/dataopt/tehtavat/opt/dataopt/final_project/reinikainen_juha_final_project.ipynb#ch0000002?line=4'>5</a>\u001b[0m \u001b[39mprint\u001b[39m(er)\n",
      "File \u001b[1;32mc:\\Users\\Juha Reinikainen\\Documents\\dataopt\\tehtavat\\opt\\dataopt\\final_project\\model.py:20\u001b[0m, in \u001b[0;36mexpectedReturn\u001b[1;34m(X, w)\u001b[0m\n\u001b[0;32m     <a href='file:///c%3A/Users/Juha%20Reinikainen/Documents/dataopt/tehtavat/opt/dataopt/final_project/model.py?line=17'>18</a>\u001b[0m \u001b[39mvars\u001b[39m \u001b[39m=\u001b[39m Ror\u001b[39m.\u001b[39mvar(axis\u001b[39m=\u001b[39m\u001b[39m0\u001b[39m)\n\u001b[0;32m     <a href='file:///c%3A/Users/Juha%20Reinikainen/Documents/dataopt/tehtavat/opt/dataopt/final_project/model.py?line=18'>19</a>\u001b[0m Xp \u001b[39m=\u001b[39m np\u001b[39m.\u001b[39marray([norm\u001b[39m.\u001b[39mpdf(x, loc\u001b[39m=\u001b[39mm, scale\u001b[39m=\u001b[39mv) \u001b[39mfor\u001b[39;00m x,m,v \u001b[39min\u001b[39;00m \u001b[39mzip\u001b[39m(Ror\u001b[39m.\u001b[39mT, means, \u001b[39mvars\u001b[39m)])\n\u001b[1;32m---> <a href='file:///c%3A/Users/Juha%20Reinikainen/Documents/dataopt/tehtavat/opt/dataopt/final_project/model.py?line=19'>20</a>\u001b[0m Xpw \u001b[39m=\u001b[39m Xp\u001b[39m.\u001b[39;49mdot(w)\n\u001b[0;32m     <a href='file:///c%3A/Users/Juha%20Reinikainen/Documents/dataopt/tehtavat/opt/dataopt/final_project/model.py?line=20'>21</a>\u001b[0m \u001b[39mreturn\u001b[39;00m Xpw\n",
      "\u001b[1;31mValueError\u001b[0m: shapes (54,3) and (4,) not aligned: 3 (dim 1) != 4 (dim 0)"
     ]
    }
   ],
   "source": [
    "X = data.get_data()\n",
    "#equal weights\n",
    "w = np.array([0.25, 0.25, 0.25, 0.25])\n",
    "er = model.expectedReturn(X,w)\n",
    "print(er)\n"
   ]
  }
 ],
 "metadata": {
  "interpreter": {
   "hash": "bdaafca23d82b893edea9c5e7a9be4f8f0094208d48780ab63954ad3d246d51b"
  },
  "kernelspec": {
   "display_name": "Python 3.9.12 ('env': venv)",
   "language": "python",
   "name": "python3"
  },
  "language_info": {
   "codemirror_mode": {
    "name": "ipython",
    "version": 3
   },
   "file_extension": ".py",
   "mimetype": "text/x-python",
   "name": "python",
   "nbconvert_exporter": "python",
   "pygments_lexer": "ipython3",
   "version": "3.9.12"
  },
  "orig_nbformat": 4
 },
 "nbformat": 4,
 "nbformat_minor": 2
}
