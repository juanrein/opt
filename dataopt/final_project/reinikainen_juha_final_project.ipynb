{
 "cells": [
  {
   "cell_type": "markdown",
   "metadata": {},
   "source": [
    "### Data-driven optimization and decision making\n",
    "\n",
    "### Final project\n",
    "\n",
    "Juha Reinikainen"
   ]
  },
  {
   "cell_type": "code",
   "execution_count": 42,
   "metadata": {},
   "outputs": [
    {
     "name": "stdout",
     "output_type": "stream",
     "text": [
      "The autoreload extension is already loaded. To reload it, use:\n",
      "  %reload_ext autoreload\n"
     ]
    }
   ],
   "source": [
    "import model\n",
    "import data\n",
    "import algorithm\n",
    "import matplotlib.pyplot as plt\n",
    "from pymoo.algorithms.moo.nsga2 import NSGA2\n",
    "from pymoo.optimize import minimize\n",
    "from pymoo.factory import get_sampling, get_crossover, get_mutation\n",
    "from pymoo.operators.mixed_variable_operator import MixedVariableSampling, MixedVariableMutation, MixedVariableCrossover\n",
    "\n",
    "import warnings\n",
    "warnings.simplefilter(\"ignore\")\n",
    "\n",
    "# reload changes to self written files\n",
    "%load_ext autoreload\n",
    "%autoreload 2\n"
   ]
  },
  {
   "cell_type": "code",
   "execution_count": 43,
   "metadata": {},
   "outputs": [],
   "source": [
    "df = data.get_data_df()\n",
    "\n",
    "n_stocks = df.shape[1]\n",
    "population_size = 80\n",
    "n_generations = 1000\n",
    "\n",
    "#weight for each stock and whether to \n",
    "variable_type_mask = [\"real\" for _ in range(n_stocks)] + [\"bin\" for _ in range(n_stocks)]\n",
    "\n",
    "sampling = MixedVariableSampling(variable_type_mask, {\n",
    "    \"real\": get_sampling(\"real_random\"),\n",
    "    \"bin\": get_sampling(\"bin_random\")\n",
    "})\n",
    "\n",
    "crossover = MixedVariableCrossover(variable_type_mask, {\n",
    "    \"real\": get_crossover(\"real_sbx\", prob=1.0, eta=3.0),\n",
    "    \"bin\": get_crossover(\"bin_two_point\")\n",
    "})\n",
    "\n",
    "mutation = MixedVariableMutation(variable_type_mask, {\n",
    "    \"real\": get_mutation(\"real_pm\", eta=3.0, prob=1/50),\n",
    "    \"bin\": get_mutation(\"bin_bitflip\", prob=1/50)\n",
    "})\n",
    "\n",
    "problem = model.PortfolioSelection(df, 0.01, 0.8, 4, 20, n_stocks)\n",
    "# problemArima = model.PortfolioSelectionArima(df, w0)\n",
    "\n",
    "repairMethod = algorithm.OneSumRepair(n_stocks)"
   ]
  },
  {
   "cell_type": "code",
   "execution_count": 44,
   "metadata": {},
   "outputs": [
    {
     "ename": "IndexError",
     "evalue": "boolean index did not match indexed array along dimension 0; dimension is 50 but corresponding boolean dimension is 100",
     "output_type": "error",
     "traceback": [
      "\u001b[1;31m---------------------------------------------------------------------------\u001b[0m",
      "\u001b[1;31mIndexError\u001b[0m                                Traceback (most recent call last)",
      "\u001b[1;32mc:\\Users\\Juha Reinikainen\\Documents\\dataopt\\tehtavat\\opt\\dataopt\\final_project\\reinikainen_juha_final_project.ipynb Cell 4'\u001b[0m in \u001b[0;36m<cell line: 9>\u001b[1;34m()\u001b[0m\n\u001b[0;32m      <a href='vscode-notebook-cell:/c%3A/Users/Juha%20Reinikainen/Documents/dataopt/tehtavat/opt/dataopt/final_project/reinikainen_juha_final_project.ipynb#ch0000003?line=0'>1</a>\u001b[0m \u001b[39m# initial_population = algorithm.createInitialPopulation(population_size, n_stocks)\u001b[39;00m\n\u001b[0;32m      <a href='vscode-notebook-cell:/c%3A/Users/Juha%20Reinikainen/Documents/dataopt/tehtavat/opt/dataopt/final_project/reinikainen_juha_final_project.ipynb#ch0000003?line=1'>2</a>\u001b[0m nsga2 \u001b[39m=\u001b[39m NSGA2(\n\u001b[0;32m      <a href='vscode-notebook-cell:/c%3A/Users/Juha%20Reinikainen/Documents/dataopt/tehtavat/opt/dataopt/final_project/reinikainen_juha_final_project.ipynb#ch0000003?line=2'>3</a>\u001b[0m     pop_size \u001b[39m=\u001b[39m population_size, \n\u001b[0;32m      <a href='vscode-notebook-cell:/c%3A/Users/Juha%20Reinikainen/Documents/dataopt/tehtavat/opt/dataopt/final_project/reinikainen_juha_final_project.ipynb#ch0000003?line=3'>4</a>\u001b[0m     sampling\u001b[39m=\u001b[39msampling,\n\u001b[1;32m   (...)\u001b[0m\n\u001b[0;32m      <a href='vscode-notebook-cell:/c%3A/Users/Juha%20Reinikainen/Documents/dataopt/tehtavat/opt/dataopt/final_project/reinikainen_juha_final_project.ipynb#ch0000003?line=6'>7</a>\u001b[0m     repair \u001b[39m=\u001b[39m repairMethod\n\u001b[0;32m      <a href='vscode-notebook-cell:/c%3A/Users/Juha%20Reinikainen/Documents/dataopt/tehtavat/opt/dataopt/final_project/reinikainen_juha_final_project.ipynb#ch0000003?line=7'>8</a>\u001b[0m )\n\u001b[1;32m----> <a href='vscode-notebook-cell:/c%3A/Users/Juha%20Reinikainen/Documents/dataopt/tehtavat/opt/dataopt/final_project/reinikainen_juha_final_project.ipynb#ch0000003?line=8'>9</a>\u001b[0m res \u001b[39m=\u001b[39m minimize(problem, nsga2, (\u001b[39m\"\u001b[39;49m\u001b[39mn_gen\u001b[39;49m\u001b[39m\"\u001b[39;49m, n_generations), seed\u001b[39m=\u001b[39;49m\u001b[39m1\u001b[39;49m, verbose \u001b[39m=\u001b[39;49m \u001b[39mTrue\u001b[39;49;00m)\n",
      "File \u001b[1;32mc:\\Users\\Juha Reinikainen\\Documents\\dataopt\\env\\lib\\site-packages\\pymoo\\optimize.py:83\u001b[0m, in \u001b[0;36mminimize\u001b[1;34m(problem, algorithm, termination, copy_algorithm, copy_termination, **kwargs)\u001b[0m\n\u001b[0;32m     <a href='file:///c%3A/Users/Juha%20Reinikainen/Documents/dataopt/env/lib/site-packages/pymoo/optimize.py?line=79'>80</a>\u001b[0m algorithm\u001b[39m.\u001b[39mtermination \u001b[39m=\u001b[39m termination\n\u001b[0;32m     <a href='file:///c%3A/Users/Juha%20Reinikainen/Documents/dataopt/env/lib/site-packages/pymoo/optimize.py?line=81'>82</a>\u001b[0m \u001b[39m# actually execute the algorithm\u001b[39;00m\n\u001b[1;32m---> <a href='file:///c%3A/Users/Juha%20Reinikainen/Documents/dataopt/env/lib/site-packages/pymoo/optimize.py?line=82'>83</a>\u001b[0m res \u001b[39m=\u001b[39m algorithm\u001b[39m.\u001b[39;49mrun()\n\u001b[0;32m     <a href='file:///c%3A/Users/Juha%20Reinikainen/Documents/dataopt/env/lib/site-packages/pymoo/optimize.py?line=84'>85</a>\u001b[0m \u001b[39m# store the deep copied algorithm in the result object\u001b[39;00m\n\u001b[0;32m     <a href='file:///c%3A/Users/Juha%20Reinikainen/Documents/dataopt/env/lib/site-packages/pymoo/optimize.py?line=85'>86</a>\u001b[0m res\u001b[39m.\u001b[39malgorithm \u001b[39m=\u001b[39m algorithm\n",
      "File \u001b[1;32mc:\\Users\\Juha Reinikainen\\Documents\\dataopt\\env\\lib\\site-packages\\pymoo\\core\\algorithm.py:213\u001b[0m, in \u001b[0;36mAlgorithm.run\u001b[1;34m(self)\u001b[0m\n\u001b[0;32m    <a href='file:///c%3A/Users/Juha%20Reinikainen/Documents/dataopt/env/lib/site-packages/pymoo/core/algorithm.py?line=210'>211</a>\u001b[0m \u001b[39m# while termination criterion not fulfilled\u001b[39;00m\n\u001b[0;32m    <a href='file:///c%3A/Users/Juha%20Reinikainen/Documents/dataopt/env/lib/site-packages/pymoo/core/algorithm.py?line=211'>212</a>\u001b[0m \u001b[39mwhile\u001b[39;00m \u001b[39mself\u001b[39m\u001b[39m.\u001b[39mhas_next():\n\u001b[1;32m--> <a href='file:///c%3A/Users/Juha%20Reinikainen/Documents/dataopt/env/lib/site-packages/pymoo/core/algorithm.py?line=212'>213</a>\u001b[0m     \u001b[39mself\u001b[39;49m\u001b[39m.\u001b[39;49mnext()\n\u001b[0;32m    <a href='file:///c%3A/Users/Juha%20Reinikainen/Documents/dataopt/env/lib/site-packages/pymoo/core/algorithm.py?line=214'>215</a>\u001b[0m \u001b[39m# create the result object to be returned\u001b[39;00m\n\u001b[0;32m    <a href='file:///c%3A/Users/Juha%20Reinikainen/Documents/dataopt/env/lib/site-packages/pymoo/core/algorithm.py?line=215'>216</a>\u001b[0m res \u001b[39m=\u001b[39m \u001b[39mself\u001b[39m\u001b[39m.\u001b[39mresult()\n",
      "File \u001b[1;32mc:\\Users\\Juha Reinikainen\\Documents\\dataopt\\env\\lib\\site-packages\\pymoo\\core\\algorithm.py:229\u001b[0m, in \u001b[0;36mAlgorithm.next\u001b[1;34m(self)\u001b[0m\n\u001b[0;32m    <a href='file:///c%3A/Users/Juha%20Reinikainen/Documents/dataopt/env/lib/site-packages/pymoo/core/algorithm.py?line=225'>226</a>\u001b[0m \u001b[39mdef\u001b[39;00m \u001b[39mnext\u001b[39m(\u001b[39mself\u001b[39m):\n\u001b[0;32m    <a href='file:///c%3A/Users/Juha%20Reinikainen/Documents/dataopt/env/lib/site-packages/pymoo/core/algorithm.py?line=226'>227</a>\u001b[0m \n\u001b[0;32m    <a href='file:///c%3A/Users/Juha%20Reinikainen/Documents/dataopt/env/lib/site-packages/pymoo/core/algorithm.py?line=227'>228</a>\u001b[0m     \u001b[39m# get the infill solutions\u001b[39;00m\n\u001b[1;32m--> <a href='file:///c%3A/Users/Juha%20Reinikainen/Documents/dataopt/env/lib/site-packages/pymoo/core/algorithm.py?line=228'>229</a>\u001b[0m     infills \u001b[39m=\u001b[39m \u001b[39mself\u001b[39;49m\u001b[39m.\u001b[39;49minfill()\n\u001b[0;32m    <a href='file:///c%3A/Users/Juha%20Reinikainen/Documents/dataopt/env/lib/site-packages/pymoo/core/algorithm.py?line=230'>231</a>\u001b[0m     \u001b[39m# call the advance with them after evaluation\u001b[39;00m\n\u001b[0;32m    <a href='file:///c%3A/Users/Juha%20Reinikainen/Documents/dataopt/env/lib/site-packages/pymoo/core/algorithm.py?line=231'>232</a>\u001b[0m     \u001b[39mif\u001b[39;00m infills \u001b[39mis\u001b[39;00m \u001b[39mnot\u001b[39;00m \u001b[39mNone\u001b[39;00m:\n",
      "File \u001b[1;32mc:\\Users\\Juha Reinikainen\\Documents\\dataopt\\env\\lib\\site-packages\\pymoo\\core\\algorithm.py:265\u001b[0m, in \u001b[0;36mAlgorithm.infill\u001b[1;34m(self)\u001b[0m\n\u001b[0;32m    <a href='file:///c%3A/Users/Juha%20Reinikainen/Documents/dataopt/env/lib/site-packages/pymoo/core/algorithm.py?line=261'>262</a>\u001b[0m     \u001b[39mself\u001b[39m\u001b[39m.\u001b[39m_initialize()\n\u001b[0;32m    <a href='file:///c%3A/Users/Juha%20Reinikainen/Documents/dataopt/env/lib/site-packages/pymoo/core/algorithm.py?line=263'>264</a>\u001b[0m     \u001b[39m# execute the initialization infill of the algorithm\u001b[39;00m\n\u001b[1;32m--> <a href='file:///c%3A/Users/Juha%20Reinikainen/Documents/dataopt/env/lib/site-packages/pymoo/core/algorithm.py?line=264'>265</a>\u001b[0m     infills \u001b[39m=\u001b[39m \u001b[39mself\u001b[39;49m\u001b[39m.\u001b[39;49m_initialize_infill()\n\u001b[0;32m    <a href='file:///c%3A/Users/Juha%20Reinikainen/Documents/dataopt/env/lib/site-packages/pymoo/core/algorithm.py?line=266'>267</a>\u001b[0m \u001b[39melse\u001b[39;00m:\n\u001b[0;32m    <a href='file:///c%3A/Users/Juha%20Reinikainen/Documents/dataopt/env/lib/site-packages/pymoo/core/algorithm.py?line=267'>268</a>\u001b[0m     \u001b[39m# request the infill solutions if the algorithm has implemented it\u001b[39;00m\n\u001b[0;32m    <a href='file:///c%3A/Users/Juha%20Reinikainen/Documents/dataopt/env/lib/site-packages/pymoo/core/algorithm.py?line=268'>269</a>\u001b[0m     infills \u001b[39m=\u001b[39m \u001b[39mself\u001b[39m\u001b[39m.\u001b[39m_infill()\n",
      "File \u001b[1;32mc:\\Users\\Juha Reinikainen\\Documents\\dataopt\\env\\lib\\site-packages\\pymoo\\algorithms\\base\\genetic.py:75\u001b[0m, in \u001b[0;36mGeneticAlgorithm._initialize_infill\u001b[1;34m(self)\u001b[0m\n\u001b[0;32m     <a href='file:///c%3A/Users/Juha%20Reinikainen/Documents/dataopt/env/lib/site-packages/pymoo/algorithms/base/genetic.py?line=73'>74</a>\u001b[0m \u001b[39mdef\u001b[39;00m \u001b[39m_initialize_infill\u001b[39m(\u001b[39mself\u001b[39m):\n\u001b[1;32m---> <a href='file:///c%3A/Users/Juha%20Reinikainen/Documents/dataopt/env/lib/site-packages/pymoo/algorithms/base/genetic.py?line=74'>75</a>\u001b[0m     pop \u001b[39m=\u001b[39m \u001b[39mself\u001b[39;49m\u001b[39m.\u001b[39;49minitialization\u001b[39m.\u001b[39;49mdo(\u001b[39mself\u001b[39;49m\u001b[39m.\u001b[39;49mproblem, \u001b[39mself\u001b[39;49m\u001b[39m.\u001b[39;49mpop_size, algorithm\u001b[39m=\u001b[39;49m\u001b[39mself\u001b[39;49m)\n\u001b[0;32m     <a href='file:///c%3A/Users/Juha%20Reinikainen/Documents/dataopt/env/lib/site-packages/pymoo/algorithms/base/genetic.py?line=75'>76</a>\u001b[0m     pop\u001b[39m.\u001b[39mset(\u001b[39m\"\u001b[39m\u001b[39mn_gen\u001b[39m\u001b[39m\"\u001b[39m, \u001b[39mself\u001b[39m\u001b[39m.\u001b[39mn_gen)\n\u001b[0;32m     <a href='file:///c%3A/Users/Juha%20Reinikainen/Documents/dataopt/env/lib/site-packages/pymoo/algorithms/base/genetic.py?line=76'>77</a>\u001b[0m     \u001b[39mreturn\u001b[39;00m pop\n",
      "File \u001b[1;32mc:\\Users\\Juha Reinikainen\\Documents\\dataopt\\env\\lib\\site-packages\\pymoo\\core\\initialization.py:30\u001b[0m, in \u001b[0;36mInitialization.do\u001b[1;34m(self, problem, n_samples, **kwargs)\u001b[0m\n\u001b[0;32m     <a href='file:///c%3A/Users/Juha%20Reinikainen/Documents/dataopt/env/lib/site-packages/pymoo/core/initialization.py?line=27'>28</a>\u001b[0m         pop \u001b[39m=\u001b[39m Population\u001b[39m.\u001b[39mnew(X\u001b[39m=\u001b[39m\u001b[39mself\u001b[39m\u001b[39m.\u001b[39msampling)\n\u001b[0;32m     <a href='file:///c%3A/Users/Juha%20Reinikainen/Documents/dataopt/env/lib/site-packages/pymoo/core/initialization.py?line=28'>29</a>\u001b[0m     \u001b[39melse\u001b[39;00m:\n\u001b[1;32m---> <a href='file:///c%3A/Users/Juha%20Reinikainen/Documents/dataopt/env/lib/site-packages/pymoo/core/initialization.py?line=29'>30</a>\u001b[0m         pop \u001b[39m=\u001b[39m \u001b[39mself\u001b[39m\u001b[39m.\u001b[39msampling\u001b[39m.\u001b[39mdo(problem, n_samples, \u001b[39m*\u001b[39m\u001b[39m*\u001b[39mkwargs)\n\u001b[0;32m     <a href='file:///c%3A/Users/Juha%20Reinikainen/Documents/dataopt/env/lib/site-packages/pymoo/core/initialization.py?line=31'>32</a>\u001b[0m \u001b[39m# repair all solutions that are not already evaluated\u001b[39;00m\n\u001b[0;32m     <a href='file:///c%3A/Users/Juha%20Reinikainen/Documents/dataopt/env/lib/site-packages/pymoo/core/initialization.py?line=32'>33</a>\u001b[0m not_eval_yet \u001b[39m=\u001b[39m [k \u001b[39mfor\u001b[39;00m k \u001b[39min\u001b[39;00m \u001b[39mrange\u001b[39m(\u001b[39mlen\u001b[39m(pop)) \u001b[39mif\u001b[39;00m pop[k]\u001b[39m.\u001b[39mF \u001b[39mis\u001b[39;00m \u001b[39mNone\u001b[39;00m]\n",
      "File \u001b[1;32mc:\\Users\\Juha Reinikainen\\Documents\\dataopt\\env\\lib\\site-packages\\pymoo\\core\\sampling.py:38\u001b[0m, in \u001b[0;36mSampling.do\u001b[1;34m(self, problem, n_samples, pop, **kwargs)\u001b[0m\n\u001b[0;32m     <a href='file:///c%3A/Users/Juha%20Reinikainen/Documents/dataopt/env/lib/site-packages/pymoo/core/sampling.py?line=14'>15</a>\u001b[0m \u001b[39mdef\u001b[39;00m \u001b[39mdo\u001b[39m(\u001b[39mself\u001b[39m, problem, n_samples, pop\u001b[39m=\u001b[39mPopulation(), \u001b[39m*\u001b[39m\u001b[39m*\u001b[39mkwargs):\n\u001b[0;32m     <a href='file:///c%3A/Users/Juha%20Reinikainen/Documents/dataopt/env/lib/site-packages/pymoo/core/sampling.py?line=15'>16</a>\u001b[0m     \u001b[39m\"\"\"\u001b[39;00m\n\u001b[0;32m     <a href='file:///c%3A/Users/Juha%20Reinikainen/Documents/dataopt/env/lib/site-packages/pymoo/core/sampling.py?line=16'>17</a>\u001b[0m \u001b[39m    Sample new points with problem information if necessary.\u001b[39;00m\n\u001b[0;32m     <a href='file:///c%3A/Users/Juha%20Reinikainen/Documents/dataopt/env/lib/site-packages/pymoo/core/sampling.py?line=17'>18</a>\u001b[0m \n\u001b[1;32m   (...)\u001b[0m\n\u001b[0;32m     <a href='file:///c%3A/Users/Juha%20Reinikainen/Documents/dataopt/env/lib/site-packages/pymoo/core/sampling.py?line=35'>36</a>\u001b[0m \n\u001b[0;32m     <a href='file:///c%3A/Users/Juha%20Reinikainen/Documents/dataopt/env/lib/site-packages/pymoo/core/sampling.py?line=36'>37</a>\u001b[0m \u001b[39m    \"\"\"\u001b[39;00m\n\u001b[1;32m---> <a href='file:///c%3A/Users/Juha%20Reinikainen/Documents/dataopt/env/lib/site-packages/pymoo/core/sampling.py?line=37'>38</a>\u001b[0m     val \u001b[39m=\u001b[39m \u001b[39mself\u001b[39m\u001b[39m.\u001b[39m_do(problem, n_samples, \u001b[39m*\u001b[39m\u001b[39m*\u001b[39mkwargs)\n\u001b[0;32m     <a href='file:///c%3A/Users/Juha%20Reinikainen/Documents/dataopt/env/lib/site-packages/pymoo/core/sampling.py?line=39'>40</a>\u001b[0m     \u001b[39mif\u001b[39;00m pop \u001b[39mis\u001b[39;00m \u001b[39mNone\u001b[39;00m:\n\u001b[0;32m     <a href='file:///c%3A/Users/Juha%20Reinikainen/Documents/dataopt/env/lib/site-packages/pymoo/core/sampling.py?line=40'>41</a>\u001b[0m         \u001b[39mreturn\u001b[39;00m val\n",
      "File \u001b[1;32mc:\\Users\\Juha Reinikainen\\Documents\\dataopt\\env\\lib\\site-packages\\pymoo\\operators\\mixed_variable_operator.py:129\u001b[0m, in \u001b[0;36mMixedVariableSampling._do\u001b[1;34m(self, problem, n_samples, **kwargs)\u001b[0m\n\u001b[0;32m    <a href='file:///c%3A/Users/Juha%20Reinikainen/Documents/dataopt/env/lib/site-packages/pymoo/operators/mixed_variable_operator.py?line=125'>126</a>\u001b[0m \u001b[39mdef\u001b[39;00m \u001b[39mfun\u001b[39m(mask, operator):\n\u001b[0;32m    <a href='file:///c%3A/Users/Juha%20Reinikainen/Documents/dataopt/env/lib/site-packages/pymoo/operators/mixed_variable_operator.py?line=126'>127</a>\u001b[0m     \u001b[39mreturn\u001b[39;00m operator\u001b[39m.\u001b[39m_do(problem, n_samples, \u001b[39m*\u001b[39m\u001b[39m*\u001b[39mkwargs)\n\u001b[1;32m--> <a href='file:///c%3A/Users/Juha%20Reinikainen/Documents/dataopt/env/lib/site-packages/pymoo/operators/mixed_variable_operator.py?line=128'>129</a>\u001b[0m ret \u001b[39m=\u001b[39m apply_mixed_variable_operation(problem, \u001b[39mself\u001b[39;49m\u001b[39m.\u001b[39;49mprocess, fun)\n\u001b[0;32m    <a href='file:///c%3A/Users/Juha%20Reinikainen/Documents/dataopt/env/lib/site-packages/pymoo/operators/mixed_variable_operator.py?line=129'>130</a>\u001b[0m \u001b[39mreturn\u001b[39;00m concatenate_mixed_variables(problem, \u001b[39mself\u001b[39m\u001b[39m.\u001b[39mprocess, ret)\n",
      "File \u001b[1;32mc:\\Users\\Juha Reinikainen\\Documents\\dataopt\\env\\lib\\site-packages\\pymoo\\operators\\mixed_variable_operator.py:44\u001b[0m, in \u001b[0;36mapply_mixed_variable_operation\u001b[1;34m(problem, process, fun)\u001b[0m\n\u001b[0;32m     <a href='file:///c%3A/Users/Juha%20Reinikainen/Documents/dataopt/env/lib/site-packages/pymoo/operators/mixed_variable_operator.py?line=40'>41</a>\u001b[0m mask, operator \u001b[39m=\u001b[39m entry[\u001b[39m\"\u001b[39m\u001b[39mmask\u001b[39m\u001b[39m\"\u001b[39m], entry[\u001b[39m\"\u001b[39m\u001b[39moperator\u001b[39m\u001b[39m\"\u001b[39m]\n\u001b[0;32m     <a href='file:///c%3A/Users/Juha%20Reinikainen/Documents/dataopt/env/lib/site-packages/pymoo/operators/mixed_variable_operator.py?line=42'>43</a>\u001b[0m \u001b[39m# copy the arrays of the problem and cast them to float\u001b[39;00m\n\u001b[1;32m---> <a href='file:///c%3A/Users/Juha%20Reinikainen/Documents/dataopt/env/lib/site-packages/pymoo/operators/mixed_variable_operator.py?line=43'>44</a>\u001b[0m problem\u001b[39m.\u001b[39mn_var, problem\u001b[39m.\u001b[39mxl, problem\u001b[39m.\u001b[39mxu \u001b[39m=\u001b[39m mask\u001b[39m.\u001b[39msum(), _xl[mask], _xu[mask]\n\u001b[0;32m     <a href='file:///c%3A/Users/Juha%20Reinikainen/Documents/dataopt/env/lib/site-packages/pymoo/operators/mixed_variable_operator.py?line=45'>46</a>\u001b[0m \u001b[39m# perform the crossover\u001b[39;00m\n\u001b[0;32m     <a href='file:///c%3A/Users/Juha%20Reinikainen/Documents/dataopt/env/lib/site-packages/pymoo/operators/mixed_variable_operator.py?line=46'>47</a>\u001b[0m ret\u001b[39m.\u001b[39mappend(fun(mask, operator))\n",
      "\u001b[1;31mIndexError\u001b[0m: boolean index did not match indexed array along dimension 0; dimension is 50 but corresponding boolean dimension is 100"
     ]
    }
   ],
   "source": [
    "# initial_population = algorithm.createInitialPopulation(population_size, n_stocks)\n",
    "nsga2 = NSGA2(\n",
    "    pop_size = population_size, \n",
    "    sampling=sampling,\n",
    "    crossover = crossover,\n",
    "    mutation = mutation,\n",
    "    repair = repairMethod\n",
    ")\n",
    "res = minimize(problem, nsga2, (\"n_gen\", n_generations), seed=1, verbose = True)\n",
    "\n"
   ]
  },
  {
   "cell_type": "code",
   "execution_count": null,
   "metadata": {},
   "outputs": [],
   "source": [
    "# initial_population = algorithm.createWeightVectors(population_size, n_stocks)\n",
    "\n",
    "# nsga2 = NSGA2(pop_size = population_size, sampling=initial_population, repair = repairMethod)\n",
    "# resArima = minimize(problemArima, nsga2, (\"n_gen\", n_generations), seed=1, verbose = False)\n"
   ]
  },
  {
   "cell_type": "code",
   "execution_count": null,
   "metadata": {},
   "outputs": [
    {
     "data": {
      "image/png": "[encoded data removed]",
      "text/plain": [
       "<Figure size 432x288 with 1 Axes>"
      ]
     },
     "metadata": {
      "needs_background": "light"
     },
     "output_type": "display_data"
    }
   ],
   "source": [
    "plt.scatter(res.F[:,1], -res.F[:,0], label=\"simple\")\n",
    "# plt.scatter(resArima.F[:,1], -resArima.F[:,0], label=\"arima\")\n",
    "plt.xlabel(\"risk\")\n",
    "plt.ylabel(\"expected return\")\n",
    "# plt.legend()\n",
    "plt.show()"
   ]
  },
  {
   "cell_type": "code",
   "execution_count": null,
   "metadata": {},
   "outputs": [
    {
     "name": "stdout",
     "output_type": "stream",
     "text": [
      "[[0.00765278 0.11166998 0.23259373 0.01159427 0.00765278 0.00765278\n",
      "  0.00765278 0.0234306  0.00765278 0.00765278 0.00765278 0.00765278\n",
      "  0.00765278 0.00765278 0.00765278 0.00765278 0.00765278 0.00765278\n",
      "  0.00765278 0.00765278 0.00765278 0.00765278 0.00765278 0.00765278\n",
      "  0.2035742  0.02821298 0.00765278 0.00765278 0.00765278 0.00765278\n",
      "  0.00765278 0.00765278 0.00782021 0.01952035 0.00765278 0.00765278\n",
      "  0.00765278 0.00765278 0.00765278 0.00765278 0.00765278 0.01570211\n",
      "  0.00765278 0.00765278 0.00765278 0.00765278 0.00765278 0.00765278\n",
      "  0.00765278 0.03977031]\n",
      " [0.00797073 0.11508784 0.24147898 0.01131769 0.00797073 0.00797073\n",
      "  0.00797073 0.02440405 0.00797073 0.00797073 0.00797073 0.00797073\n",
      "  0.00797073 0.00797073 0.00797073 0.00797073 0.00797073 0.00797073\n",
      "  0.00797073 0.00797073 0.00797073 0.00797073 0.00797073 0.00797073\n",
      "  0.21659482 0.02737018 0.00797073 0.00797073 0.00797073 0.00797073\n",
      "  0.00797073 0.00797073 0.00797073 0.02100526 0.00797073 0.00797073\n",
      "  0.00797073 0.00797073 0.00797073 0.00797073 0.00797073 0.00797073\n",
      "  0.00797073 0.00797073 0.00797073 0.00797073 0.00797073 0.00797073\n",
      "  0.00797073 0.00797073]\n",
      " [0.00761743 0.02605532 0.19684424 0.00980923 0.00761743 0.00761743\n",
      "  0.00761743 0.00761743 0.00761743 0.00761743 0.00761743 0.00761743\n",
      "  0.00761743 0.00761743 0.00761743 0.00761743 0.05215032 0.00761743\n",
      "  0.00761743 0.00761743 0.00761743 0.00761743 0.00761743 0.00761743\n",
      "  0.15251731 0.02528666 0.00761743 0.00761743 0.00761743 0.00761743\n",
      "  0.00761743 0.08456457 0.02504033 0.01712029 0.00761743 0.00761743\n",
      "  0.00761743 0.00761743 0.00761743 0.00761743 0.00761743 0.01375222\n",
      "  0.00761743 0.00761743 0.00761743 0.00761743 0.00761743 0.00761743\n",
      "  0.00761743 0.09977991]]\n"
     ]
    }
   ],
   "source": [
    "print(res.X[:3])"
   ]
  }
 ],
 "metadata": {
  "interpreter": {
   "hash": "bdaafca23d82b893edea9c5e7a9be4f8f0094208d48780ab63954ad3d246d51b"
  },
  "kernelspec": {
   "display_name": "Python 3.9.12 ('env': venv)",
   "language": "python",
   "name": "python3"
  },
  "language_info": {
   "codemirror_mode": {
    "name": "ipython",
    "version": 3
   },
   "file_extension": ".py",
   "mimetype": "text/x-python",
   "name": "python",
   "nbconvert_exporter": "python",
   "pygments_lexer": "ipython3",
   "version": "3.9.12"
  },
  "orig_nbformat": 4
 },
 "nbformat": 4,
 "nbformat_minor": 2
}
