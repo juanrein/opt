{
 "cells": [
  {
   "cell_type": "markdown",
   "metadata": {},
   "source": [
    "### Data-driven optimization and decision making\n",
    "\n",
    "### Final project\n",
    "\n",
    "Juha Reinikainen"
   ]
  },
  {
   "cell_type": "code",
   "execution_count": 15,
   "metadata": {},
   "outputs": [],
   "source": [
    "import pandas as pd\n",
    "import numpy as np\n",
    "from statistics import NormalDist"
   ]
  },
  {
   "cell_type": "code",
   "execution_count": 16,
   "metadata": {},
   "outputs": [
    {
     "name": "stdout",
     "output_type": "stream",
     "text": [
      "[ 0.          0.04643918  0.03742859  0.02789817  0.02200661 -0.00502506\n",
      "  0.07901583  0.09721026  0.10362164  0.08092187  0.10136892  0.06082141\n",
      "  0.07624329  0.10656732  0.04661242  0.05441002  0.03638884  0.03638884\n",
      " -0.02148668 -0.02269966 -0.06342051 -0.09097211 -0.04903828 -0.03916128\n",
      " -0.01819442  0.03413622 -0.02755149 -0.02148668 -0.1219892  -0.13567838\n",
      " -0.11696408 -0.12424187 -0.12701437 -0.12250907 -0.14243629 -0.1254548\n",
      " -0.13151961 -0.18159763 -0.16790845 -0.18142434 -0.20499046 -0.25888056\n",
      " -0.35193205 -0.29301678 -0.24935015 -0.26373244 -0.27187657 -0.28054058\n",
      " -0.30341359 -0.27898107 -0.32864318 -0.34770401 -0.37314155 -0.3985791 ]\n",
      "-8.00339127732982\n"
     ]
    }
   ],
   "source": [
    "df = pd.read_csv(\"data/ADSDE.csv\")\n",
    "#Date,Open,High,Low,Close,Adj Close,Volume\n",
    "# df.hist(\"Close\")\n",
    "x = df.get(\"Close\").interpolate()\n",
    "x = x.to_numpy()\n",
    " \n",
    "\n",
    "\n",
    "x0 = x[0]\n",
    "xReturn = (x - x0) / x0\n",
    "norm = NormalDist(mu = xReturn.mean(), sigma = xReturn.std())\n",
    "\n",
    "expectedReturn = sum([norm.pdf(x) * x for x in xReturn])\n",
    "print(xReturn)\n",
    "print(expectedReturn)"
   ]
  }
 ],
 "metadata": {
  "interpreter": {
   "hash": "bdaafca23d82b893edea9c5e7a9be4f8f0094208d48780ab63954ad3d246d51b"
  },
  "kernelspec": {
   "display_name": "Python 3.9.12 ('env': venv)",
   "language": "python",
   "name": "python3"
  },
  "language_info": {
   "codemirror_mode": {
    "name": "ipython",
    "version": 3
   },
   "file_extension": ".py",
   "mimetype": "text/x-python",
   "name": "python",
   "nbconvert_exporter": "python",
   "pygments_lexer": "ipython3",
   "version": "3.9.12"
  },
  "orig_nbformat": 4
 },
 "nbformat": 4,
 "nbformat_minor": 2
}
