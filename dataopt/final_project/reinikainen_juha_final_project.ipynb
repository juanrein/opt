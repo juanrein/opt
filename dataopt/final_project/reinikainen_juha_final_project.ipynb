{
 "cells": [
  {
   "cell_type": "markdown",
   "metadata": {},
   "source": [
    "### Data-driven optimization and decision making\n",
    "\n",
    "### Final project\n",
    "\n",
    "Juha Reinikainen"
   ]
  },
  {
   "cell_type": "code",
   "execution_count": 9,
   "metadata": {},
   "outputs": [],
   "source": [
    "import pandas as pd\n",
    "import numpy as np\n",
    "import model\n",
    "import data\n",
    "import algorithm\n",
    "import matplotlib.pyplot as plt\n",
    "from pymoo.algorithms.moo.nsga2 import NSGA2\n",
    "from pymoo.optimize import minimize"
   ]
  },
  {
   "cell_type": "code",
   "execution_count": 10,
   "metadata": {},
   "outputs": [
    {
     "data": {
      "image/png": "[encoded data removed]",
      "text/plain": [
       "<Figure size 432x288 with 1 Axes>"
      ]
     },
     "metadata": {
      "needs_background": "light"
     },
     "output_type": "display_data"
    },
    {
     "name": "stdout",
     "output_type": "stream",
     "text": [
      "[1. 1. 1. 1. 1. 1. 1. 1. 1. 1. 1. 1. 1. 1. 1. 1. 1. 1. 1. 1. 1. 1. 1. 1.\n",
      " 1. 1. 1. 1. 1. 1. 1. 1. 1. 1. 1. 1. 1. 1. 1. 1. 1. 1. 1. 1. 1. 1. 1. 1.\n",
      " 1. 1. 1. 1. 1. 1. 1. 1.]\n"
     ]
    }
   ],
   "source": [
    "df = data.get_data_df()\n",
    "w0 = np.array([0.25, 0.25, 0.25, 0.25])\n",
    "problem = model.PortfolioSelection(df, w0)\n",
    "\n",
    "P0 = algorithm.createWeightVectors(len(w0), 5)\n",
    "repairMethod = algorithm.OneSumRepair()\n",
    "nsga2 = NSGA2(pop_size = len(P0), sampling=P0, repair = repairMethod)\n",
    "res = minimize(problem, nsga2, (\"n_gen\", 100), seed=1, verbose = False)\n",
    "\n",
    "plt.scatter(res.F[:,1], -res.F[:,0])\n",
    "plt.xlabel(\"risk\")\n",
    "plt.ylabel(\"expected return\")\n",
    "plt.show()\n",
    "\n",
    "# print(res.X.sum(axis=1))\n",
    "\n"
   ]
  }
 ],
 "metadata": {
  "interpreter": {
   "hash": "bdaafca23d82b893edea9c5e7a9be4f8f0094208d48780ab63954ad3d246d51b"
  },
  "kernelspec": {
   "display_name": "Python 3.9.12 ('env': venv)",
   "language": "python",
   "name": "python3"
  },
  "language_info": {
   "codemirror_mode": {
    "name": "ipython",
    "version": 3
   },
   "file_extension": ".py",
   "mimetype": "text/x-python",
   "name": "python",
   "nbconvert_exporter": "python",
   "pygments_lexer": "ipython3",
   "version": "3.9.12"
  },
  "orig_nbformat": 4
 },
 "nbformat": 4,
 "nbformat_minor": 2
}
