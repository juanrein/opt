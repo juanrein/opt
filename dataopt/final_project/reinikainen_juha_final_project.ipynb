{
 "cells": [
  {
   "cell_type": "markdown",
   "metadata": {},
   "source": [
    "### Data-driven optimization and decision making\n",
    "\n",
    "### Final project\n",
    "\n",
    "Juha Reinikainen"
   ]
  },
  {
   "cell_type": "code",
   "execution_count": 1,
   "metadata": {},
   "outputs": [],
   "source": [
    "import pandas as pd\n",
    "import numpy as np\n",
    "import model\n",
    "import data\n"
   ]
  },
  {
   "cell_type": "code",
   "execution_count": 2,
   "metadata": {},
   "outputs": [
    {
     "name": "stdout",
     "output_type": "stream",
     "text": [
      "423.08029358193534\n"
     ]
    }
   ],
   "source": [
    "X = data.get_data()\n",
    "#equal weights\n",
    "w = np.array([0.25, 0.25, 0.25, 0.25])\n",
    "er = model.expectedReturn(X,w)\n",
    "print(er)\n"
   ]
  }
 ],
 "metadata": {
  "interpreter": {
   "hash": "bdaafca23d82b893edea9c5e7a9be4f8f0094208d48780ab63954ad3d246d51b"
  },
  "kernelspec": {
   "display_name": "Python 3.9.12 ('env': venv)",
   "language": "python",
   "name": "python3"
  },
  "language_info": {
   "codemirror_mode": {
    "name": "ipython",
    "version": 3
   },
   "file_extension": ".py",
   "mimetype": "text/x-python",
   "name": "python",
   "nbconvert_exporter": "python",
   "pygments_lexer": "ipython3",
   "version": "3.9.12"
  },
  "orig_nbformat": 4
 },
 "nbformat": 4,
 "nbformat_minor": 2
}
