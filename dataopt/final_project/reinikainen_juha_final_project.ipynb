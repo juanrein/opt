{
 "cells": [
  {
   "cell_type": "markdown",
   "metadata": {},
   "source": [
    "### Data-driven optimization and decision making\n",
    "\n",
    "### Final project\n",
    "\n",
    "Juha Reinikainen"
   ]
  },
  {
   "cell_type": "code",
   "execution_count": 16,
   "metadata": {},
   "outputs": [
    {
     "name": "stdout",
     "output_type": "stream",
     "text": [
      "The autoreload extension is already loaded. To reload it, use:\n",
      "  %reload_ext autoreload\n"
     ]
    }
   ],
   "source": [
    "import numpy as np\n",
    "import model\n",
    "import data\n",
    "import algorithm\n",
    "import matplotlib.pyplot as plt\n",
    "from pymoo.algorithms.moo.nsga2 import NSGA2\n",
    "from pymoo.optimize import minimize\n",
    "\n",
    "# reload changes to self written files\n",
    "%load_ext autoreload\n",
    "%autoreload 2\n"
   ]
  },
  {
   "cell_type": "code",
   "execution_count": 17,
   "metadata": {},
   "outputs": [],
   "source": [
    "df = data.get_data_df()\n",
    "\n",
    "n_stocks = df.shape[1]\n",
    "population_size = 100\n",
    "n_generations = 1000\n",
    "\n",
    "#start with equal weight for each stock 1/50 = 0.02\n",
    "wi = 1 / n_stocks\n",
    "w0 = np.full(n_stocks, wi)\n",
    "\n",
    "problem = model.PortfolioSelection(df, w0)\n",
    "\n",
    "initial_population = algorithm.createWeightVectors(population_size, n_stocks)\n",
    "repairMethod = algorithm.OneSumRepair()"
   ]
  },
  {
   "cell_type": "code",
   "execution_count": 18,
   "metadata": {},
   "outputs": [
    {
     "data": {
      "image/png": "[encoded data removed]",
      "text/plain": [
       "<Figure size 432x288 with 1 Axes>"
      ]
     },
     "metadata": {
      "needs_background": "light"
     },
     "output_type": "display_data"
    }
   ],
   "source": [
    "nsga2 = NSGA2(pop_size = population_size, sampling=initial_population, repair = repairMethod)\n",
    "res = minimize(problem, nsga2, (\"n_gen\", n_generations), seed=1, verbose = False)\n",
    "\n",
    "plt.scatter(res.F[:,1], -res.F[:,0])\n",
    "plt.xlabel(\"risk\")\n",
    "plt.ylabel(\"expected return\")\n",
    "plt.show()\n",
    "\n",
    "# print(res.X.sum(axis=1))\n",
    "\n"
   ]
  }
 ],
 "metadata": {
  "interpreter": {
   "hash": "bdaafca23d82b893edea9c5e7a9be4f8f0094208d48780ab63954ad3d246d51b"
  },
  "kernelspec": {
   "display_name": "Python 3.9.12 ('env': venv)",
   "language": "python",
   "name": "python3"
  },
  "language_info": {
   "codemirror_mode": {
    "name": "ipython",
    "version": 3
   },
   "file_extension": ".py",
   "mimetype": "text/x-python",
   "name": "python",
   "nbconvert_exporter": "python",
   "pygments_lexer": "ipython3",
   "version": "3.9.12"
  },
  "orig_nbformat": 4
 },
 "nbformat": 4,
 "nbformat_minor": 2
}
