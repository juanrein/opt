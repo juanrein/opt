{
 "cells": [
  {
   "cell_type": "code",
   "execution_count": 138,
   "metadata": {},
   "outputs": [],
   "source": [
    "import numpy as np\n",
    "from desdeo_mcdm.interactive.NautilusNavigator import NautilusNavigator\n",
    "# from sklearn.preprocessing import MinMaxScaler\n",
    "\n",
    "np.set_printoptions(suppress=True)"
   ]
  },
  {
   "cell_type": "code",
   "execution_count": 139,
   "metadata": {},
   "outputs": [
    {
     "name": "stdout",
     "output_type": "stream",
     "text": [
      "<desdeo_mcdm.interactive.NautilusNavigator.NautilusNavigatorRequest object at 0x0000026B16AE91F0>\n",
      "dict_keys(['message', 'ideal', 'nadir', 'reachable_lb', 'reachable_ub', 'user_bounds', 'reachable_idx', 'step_number', 'steps_remaining', 'distance', 'allowed_speeds', 'current_speed', 'navigation_point'])\n",
      "Please supply aspirations levels for each objective between the upper and lower bounds as `reference_point`. Specify a speed between 1-5 as `speed`. If going to a previous step is desired, please set `go_to_previous` to True, otherwise it should be False. Bounds for one or more objectives may also be specified as 'user_bounds'; when navigating,the value of the objectives present in the navigation points will not exceed the valuesspecified in 'user_bounds'.Lastly, if stopping is desired, `stop` should be True, otherwise it should be set to False.\n",
      "[-0.0429  0.0049 -9.9915]\n",
      "[ 0.0006  0.0242 -6.6809]\n"
     ]
    }
   ],
   "source": [
    "#-return, risk, -esg\n",
    "F = np.load(\"./data/F.npy\")\n",
    "\n",
    "# scaler = MinMaxScaler()\n",
    "# Fn = scaler.fit_transform(F)\n",
    "\n",
    "ideal = np.min(F, axis=0)\n",
    "nadir = np.max(F, axis=0)\n",
    "\n",
    "method = NautilusNavigator(F, ideal, nadir)\n",
    "\n",
    "req = method.start()\n",
    "print(req)\n",
    "print(req.content.keys())\n",
    "print(req.content[\"message\"])\n",
    "print(req.content[\"reachable_lb\"])\n",
    "print(req.content[\"reachable_ub\"])\n"
   ]
  },
  {
   "cell_type": "code",
   "execution_count": 140,
   "metadata": {},
   "outputs": [
    {
     "name": "stdout",
     "output_type": "stream",
     "text": [
      "[-0.0406  0.0059 -9.9534]\n",
      "[ 0.0006  0.0198 -6.6809]\n",
      "[  0   2   6   8   9  10  11  13  15  16  20  22  23  24  26  29  30  32\n",
      "  33  34  36  37  38  39  41  42  43  46  47  48  50  51  52  53  54  56\n",
      "  57  58  61  63  64  65  66  69  70  72  73  74  75  77  78  79  80  82\n",
      "  84  85  86  89  90  91  92  94  95  96  97  98  99 100 101 102 103 104\n",
      " 106 108 109 110 114 116 117 118 120 121 122 123 124 125 126 127 129 130\n",
      " 131 132 133 136 137 138 140 141 142 144 145 146 149 150 151 152 153 154\n",
      " 156 157 159 160 161 162 163 164 166 167 169 170 171 172 173 175 176 178\n",
      " 179 180 181 182 184 185 186 189 190 191 193 194 195 196 198 199]\n"
     ]
    }
   ],
   "source": [
    "response = {\n",
    "    \"reference_point\": np.array([-0.03, 0.015, -8]),\n",
    "    \"go_to_previous\": False,\n",
    "    \"stop\": False,\n",
    "    \"speed\": 1,\n",
    "    \"user_bounds\": nadir\n",
    "}\n",
    "\n",
    "while method._step_number < 60:\n",
    "    req.response = response\n",
    "    req = method.iterate(req)\n",
    "\n",
    "print(req.content[\"reachable_lb\"])\n",
    "print(req.content[\"reachable_ub\"])\n",
    "print(req.content[\"reachable_idx\"])"
   ]
  },
  {
   "cell_type": "code",
   "execution_count": 141,
   "metadata": {},
   "outputs": [
    {
     "name": "stdout",
     "output_type": "stream",
     "text": [
      "[-0.0378  0.0075 -9.2452]\n",
      "[-0.0081  0.0153 -6.6809]\n",
      "[  2   9  10  13  15  29  30  32  37  42  51  57  66  74  75  90  95  96\n",
      "  99 102 114 121 122 126 133 140 142 145 150 152 154 157 159 162 166 167\n",
      " 173 178 179 180 182 185 191 193 195]\n"
     ]
    }
   ],
   "source": [
    "response[\"reference_point\"] = np.array([-0.035, 0.01, -8])\n",
    "\n",
    "while method._step_number < 80:\n",
    "    req.response = response\n",
    "    req = method.iterate(req)\n",
    "\n",
    "print(req.content[\"reachable_lb\"])\n",
    "print(req.content[\"reachable_ub\"])\n",
    "print(req.content[\"reachable_idx\"])"
   ]
  },
  {
   "cell_type": "code",
   "execution_count": 142,
   "metadata": {},
   "outputs": [
    {
     "name": "stdout",
     "output_type": "stream",
     "text": [
      "[-0.0317  0.0092 -8.6752]\n",
      "[-0.0317  0.0092 -8.6752]\n",
      "154\n"
     ]
    }
   ],
   "source": [
    "response[\"reference_point\"] = np.array([-0.035, 0.009, -8])\n",
    "\n",
    "while method._step_number < 100:\n",
    "    req.response = response\n",
    "    req = method.iterate(req)\n",
    "\n",
    "print(req.content[\"reachable_lb\"])\n",
    "print(req.content[\"reachable_ub\"])\n",
    "print(req.content[\"reachable_idx\"])"
   ]
  }
 ],
 "metadata": {
  "interpreter": {
   "hash": "bdaafca23d82b893edea9c5e7a9be4f8f0094208d48780ab63954ad3d246d51b"
  },
  "kernelspec": {
   "display_name": "Python 3.9.12 ('env': venv)",
   "language": "python",
   "name": "python3"
  },
  "language_info": {
   "codemirror_mode": {
    "name": "ipython",
    "version": 3
   },
   "file_extension": ".py",
   "mimetype": "text/x-python",
   "name": "python",
   "nbconvert_exporter": "python",
   "pygments_lexer": "ipython3",
   "version": "3.9.12"
  },
  "orig_nbformat": 4
 },
 "nbformat": 4,
 "nbformat_minor": 2
}
