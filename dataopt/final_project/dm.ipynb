{
 "cells": [
  {
   "cell_type": "code",
   "execution_count": 9,
   "metadata": {},
   "outputs": [],
   "source": [
    "import numpy as np\n",
    "from desdeo_mcdm.interactive.NautilusNavigator import NautilusNavigator\n",
    "from sklearn.preprocessing import MinMaxScaler"
   ]
  },
  {
   "cell_type": "code",
   "execution_count": 10,
   "metadata": {},
   "outputs": [
    {
     "name": "stdout",
     "output_type": "stream",
     "text": [
      "<desdeo_mcdm.interactive.NautilusNavigator.NautilusNavigatorRequest object at 0x000001A7595B1C40>\n",
      "dict_keys(['message', 'ideal', 'nadir', 'reachable_lb', 'reachable_ub', 'user_bounds', 'reachable_idx', 'step_number', 'steps_remaining', 'distance', 'allowed_speeds', 'current_speed', 'navigation_point'])\n",
      "Please supply aspirations levels for each objective between the upper and lower bounds as `reference_point`. Specify a speed between 1-5 as `speed`. If going to a previous step is desired, please set `go_to_previous` to True, otherwise it should be False. Bounds for one or more objectives may also be specified as 'user_bounds'; when navigating,the value of the objectives present in the navigation points will not exceed the valuesspecified in 'user_bounds'.Lastly, if stopping is desired, `stop` should be True, otherwise it should be set to False.\n",
      "[0. 0. 0.]\n",
      "[1. 1. 1.]\n"
     ]
    }
   ],
   "source": [
    "#-return, risk, -esg\n",
    "F = np.load(\"./data/F.npy\")\n",
    "F[:,0] = F[:,0]\n",
    "F[:,1] = F[:,1]\n",
    "\n",
    "scaler = MinMaxScaler()\n",
    "Fn = scaler.fit_transform(F)\n",
    "\n",
    "ideal = np.min(Fn, axis=0)\n",
    "nadir = np.max(Fn, axis=0)\n",
    "\n",
    "method = NautilusNavigator(Fn, ideal, nadir)\n",
    "\n",
    "req_first = method.start()\n",
    "print(req_first)\n",
    "print(req_first.content.keys())\n",
    "print(req_first.content[\"message\"])\n",
    "print(req_first.content[\"reachable_lb\"])\n",
    "print(req_first.content[\"reachable_ub\"])\n"
   ]
  },
  {
   "cell_type": "code",
   "execution_count": 11,
   "metadata": {},
   "outputs": [
    {
     "name": "stdout",
     "output_type": "stream",
     "text": [
      "[0.00620815 0.         0.        ]\n",
      "[1.         0.96680264 0.99767735]\n"
     ]
    }
   ],
   "source": [
    "response = {\n",
    "    \"reference_point\": np.array([0.4, 0.8, 0.5]),\n",
    "    \"go_to_previous\": False,\n",
    "    \"stop\": False,\n",
    "    \"speed\": 1,\n",
    "    \"user_bounds\": np.array([1,1,1])\n",
    "}\n",
    "\n",
    "req_first.response = response\n",
    "req_snd = method.iterate(req_first)\n",
    "\n",
    "print(req_snd.content[\"reachable_lb\"])\n",
    "print(req_snd.content[\"reachable_ub\"])"
   ]
  },
  {
   "cell_type": "code",
   "execution_count": 12,
   "metadata": {},
   "outputs": [
    {
     "name": "stdout",
     "output_type": "stream",
     "text": [
      "[0.06487542 0.03295414 0.        ]\n",
      "[0.90541127 0.73603404 0.82531967]\n",
      "30\n",
      "[ 2  8 10 11 13 14 15 16 17 18 20 21 22 23 24 27 28 29 30 32 33 34 35 37\n",
      " 38 39 40 41 42 43 44 45 46 47 49 50 51 52 54 55 57 58 59 60 61 62 64 65\n",
      " 66 68 69 70 72 73 74 75 76 77 78 80 81 82 83 84 86 87 88 89 90 92 93 94\n",
      " 95 96 97 98]\n"
     ]
    }
   ],
   "source": [
    "previous_requests = [req_first, req_snd]\n",
    "req = req_snd\n",
    "while method._step_number < 100:\n",
    "    req.response = response\n",
    "    req = method.iterate(req)\n",
    "\n",
    "    previous_requests.append(req)\n",
    "\n",
    "print(req.content[\"reachable_lb\"])\n",
    "print(req.content[\"reachable_ub\"])\n",
    "print(req.content[\"step_number\"])\n",
    "\n",
    "print(req.content[\"reachable_idx\"])"
   ]
  }
 ],
 "metadata": {
  "interpreter": {
   "hash": "bdaafca23d82b893edea9c5e7a9be4f8f0094208d48780ab63954ad3d246d51b"
  },
  "kernelspec": {
   "display_name": "Python 3.9.12 ('env': venv)",
   "language": "python",
   "name": "python3"
  },
  "language_info": {
   "codemirror_mode": {
    "name": "ipython",
    "version": 3
   },
   "file_extension": ".py",
   "mimetype": "text/x-python",
   "name": "python",
   "nbconvert_exporter": "python",
   "pygments_lexer": "ipython3",
   "version": "3.9.12"
  },
  "orig_nbformat": 4
 },
 "nbformat": 4,
 "nbformat_minor": 2
}
